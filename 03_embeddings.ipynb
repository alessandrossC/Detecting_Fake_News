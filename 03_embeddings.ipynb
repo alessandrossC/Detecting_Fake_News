{
  "nbformat": 4,
  "nbformat_minor": 0,
  "metadata": {
    "colab": {
      "provenance": [],
      "include_colab_link": true
    },
    "kernelspec": {
      "name": "python3",
      "display_name": "Python 3"
    },
    "language_info": {
      "name": "python"
    }
  },
  "cells": [
    {
      "cell_type": "markdown",
      "metadata": {
        "id": "view-in-github",
        "colab_type": "text"
      },
      "source": [
        "<a href=\"https://colab.research.google.com/github/alessandrossC/Detecting_Fake_News/blob/main/03_embeddings.ipynb\" target=\"_parent\"><img src=\"https://colab.research.google.com/assets/colab-badge.svg\" alt=\"Open In Colab\"/></a>"
      ]
    },
    {
      "cell_type": "code",
      "execution_count": null,
      "metadata": {
        "colab": {
          "base_uri": "https://localhost:8080/"
        },
        "id": "qEf14-1gnTHc",
        "outputId": "dbb1a159-e5f5-4513-dd88-cd0a441768a0"
      },
      "outputs": [
        {
          "output_type": "stream",
          "name": "stdout",
          "text": [
            "Using device: cpu\n"
          ]
        }
      ],
      "source": [
        "import sys\n",
        "import os\n",
        "\n",
        "import joblib\n",
        "import numpy as np\n",
        "import pandas as pd\n",
        "import matplotlib.pyplot as plt\n",
        "import seaborn as sns\n",
        "import torch\n",
        "import re\n",
        "import nltk\n",
        "from nltk.corpus import stopwords\n",
        "from nltk.stem import WordNetLemmatizer\n",
        "from sklearn.metrics.pairwise import cosine_similarity\n",
        "from sklearn.metrics import log_loss, classification_report\n",
        "from sklearn.linear_model import LogisticRegression\n",
        "from sklearn.calibration import calibration_curve\n",
        "from sentence_transformers import SentenceTransformer\n",
        "from typing import Union\n",
        "\n",
        "from tqdm.auto import tqdm\n",
        "\n",
        "np.random.seed(7)\n",
        "\n",
        "# Check GPU availability\n",
        "device = torch.device('cuda' if torch.cuda.is_available() else 'cpu')\n",
        "print(f\"Using device: {device}\")"
      ]
    },
    {
      "cell_type": "code",
      "source": [
        "DATA_PATH = '/content/processed'\n",
        "train_df = pd.read_csv(os.path.join(DATA_PATH, 'train.csv.zip'), compression='zip')\n",
        "val_df = pd.read_csv(os.path.join(DATA_PATH, 'val.csv.zip'), compression='zip')"
      ],
      "metadata": {
        "id": "4fElAmiGntyt"
      },
      "execution_count": null,
      "outputs": []
    },
    {
      "cell_type": "code",
      "source": [
        "model = SentenceTransformer('all-MiniLM-L6-v2')"
      ],
      "metadata": {
        "colab": {
          "base_uri": "https://localhost:8080/",
          "height": 496,
          "referenced_widgets": [
            "ebbc5b9d06bd4033a26be9e6a3fd2334",
            "20b1c48b64af4995b519b4d62d01a109",
            "37fc0da3585a49b6be7864bafdf98151",
            "b6d742b7daf84655a93b5bef77ba46b4",
            "79409ec16b6448d180c4782bc075c9ad",
            "fd6fdfe9bdb840d3b9e415603c04265e",
            "2923911875ec4897a5cb7c62e41ba53b",
            "5a12ba4376d643bf985c2af1b6fe98b7",
            "0adb3f1db6164bbaa16cbf591d2dda1d",
            "c81fcd409814428a9f64da3623d54ea3",
            "2975a7b7ea1844428909fbddbee8279b",
            "5feb5f343e0147d09a6def58fc91fb03",
            "440b99fc0b204d179161fb9ec72f0a61",
            "ebc38f83f0924530853a1aca0611ede3",
            "b2c5a82299fe4291a74d6afccb8caa88",
            "b076119728414d0f92047ab6584cb825",
            "da7fa405c9b342f5ab858af9c4cbbf8e",
            "ebc71e37f71c4cc1bcb4d06083867cb9",
            "48810337549b4d80bf0be65d54d9885a",
            "1cc5fd3164d1477085730983e5f95d74",
            "a627654798c044c1986930e33c40ff2a",
            "42f4e8ad522346dbb2767a2962b7af23",
            "c433ca9f6c7a441d840bdf62f42a91a7",
            "f4db8a187e3c43b5a53ecaae993e575e",
            "a79699985f2f44d897c698e5c4b78429",
            "8c70abf1ee6d4c1882a982e69bf7ae49",
            "41948dc0433d427f8edfc753257b6868",
            "864dcac0ecd741be8d1a58d683b90fc9",
            "56d004485bf54c4e98dbcd5a4938572f",
            "a267c1963ff94445aaca5f8999fdf833",
            "02f50fe28e7646b589517ccd74dd9ce4",
            "3a1c08ca853041f7bef283059fd59c0d",
            "76aaa4c1fbd04675a7fad0923ab04101",
            "6708a69eab51473ba44afc777e5cc035",
            "bc00b4e01e3d47e8bd355da3cbc5fc50",
            "cc3ccc7664e94bdd83f465b1b5555be6",
            "c37fc160c9aa49798e7f4614dc2904de",
            "1c22da3d8a9648818f93cde98e4d6b47",
            "00b9a927b5554011a81a50816368cf40",
            "7f883dfb6bf74c169223a972a2ca8d76",
            "e9e84cd210e241c9801bf75a6e0d82b1",
            "1dcc29ec8f3247ee854447b8a18b4f1e",
            "aefd2f586f894a91a788b4c235f6bb4e",
            "bfe0d211a6734e68ae381245d984c7cf",
            "65409566ce4842aabe99e64a51438962",
            "ba5f06ac43a1428fba7da81f6fa581ec",
            "6441894415254cb886d5c1e8e447a6ec",
            "da03faa569544c848a4d7920367041ed",
            "0d1aed8d4a6f4c02b0ed4e32a1fd9585",
            "5830d9bcabff46c59ae4a0bb88442bcb",
            "6a8c4e1bca8149acb36d65a1c1b57e54",
            "39088a8a20084510b8c6ddaf6cd22def",
            "e6b64ac04ac642e7a810485c7e43e763",
            "c03795cdac9843609ca5e96893490c52",
            "04d45f8628c6496393b3513d623b5186",
            "7b54e0dd28b04f079dd237a9adcfd2a1",
            "c01d9e1d96e14c07ba42391bb60eb5ee",
            "08ec554e9f804807a75dbc2c77a3d25b",
            "7d14417fb1b64ff1ade2885bf0032bd6",
            "1db5dfc68b6d4ca58e38f4db76c32db5",
            "c04ff61d93d141459dcd69c7766b21b5",
            "9757a94007814517a44b750deb58b1bc",
            "cd28e08ad67b45cd8f50cb41152e8ab3",
            "5021ff80735b45a09ea294f2c7f979f3",
            "4e675c1e4ada40299a46d671a94f477a",
            "fe79f3290b7b44a0863304fd4c44cc5f",
            "6761b0031b2643b6b6eec09d3a292d99",
            "14f3c50d63a640079e31372759256e9f",
            "beca7de702184a5cba584a380f5cdf86",
            "5b1f9d80a36e4a5697f4cf5a5067ffa6",
            "f0d976584d224daaa94774dd3345474c",
            "4a1510a222e642919e6f44bd0f07057f",
            "19e830d871db40e18f28276f34d2769a",
            "3d03383b08fb4d819c499e6e92b920ea",
            "9e9a20e566074ebaa3ec9a260deedf0c",
            "7da8d0a012b34b91b81ca24b0d64ee5f",
            "b3a8682be8aa4c2598f89a0a07d93de4",
            "91a118121a584fcfa5b2b22eb2692684",
            "d0d9d383ec2b409597bec2e8118afec7",
            "a161c65a23dc4dba947059d5fe0c278a",
            "cb9777db0e7f41169276a15b99e99909",
            "88c0ede2d1df4dbfabb06f1e370add4c",
            "2c2f69397d12442d8bbdcad332dbbb91",
            "8ff53c68455043e59317fd99f331dbb7",
            "1ed2678c448b4d5aa18bcb42645c5477",
            "101f803f10044a24a6e2eb58de0a61f6",
            "786eff0e77574a309be00ef29eec1d23",
            "9ae7754ecda7451b8794b228ccdab838",
            "24d5ff9072004a49a461189196db74c5",
            "aac7b8a8cdc34481847ade9fe2dc23b1",
            "7b5bdf106f914f0aa0a6fef920721a79",
            "615c6d17aedb4b73a11ea68aafc80a3a",
            "ee467ed47af4497b8137668678e5ff34",
            "39d63cb67fe146bca4c9b20b24a8e174",
            "2bf11695bb1a4252be93bcac4fe10721",
            "6df362ca88dd496f833a1efa750bc1ec",
            "d55ec115539e4504a286f0f8e94bb9ef",
            "9afd6558d2af4b4e8640df73e7bea02d",
            "5566f42f63ee4a92a0df3a5672cf30bf",
            "667cd5e43d2f49719fec4ece513a4f05",
            "0b8d96765a6f4608a4ab44e879553d19",
            "431cead28bb541fb840ea974143df086",
            "bc556aa7688f4cf79798ce0aff3a67ce",
            "86d5d0ec09574097afc0fa84e1cac116",
            "f1b363a0ec6645f0bab0adffa97c8e15",
            "16bd5475af68435faa3aa18db79ced3f",
            "37be5d4274e24115a9d39649a8a2032e",
            "c34635a7f08546a99f5aee27aa71ad10",
            "9c114d58092845bc91f22c5ae08971d1",
            "9555707dcb034299b41b36efe61c3ccf",
            "fdbb04cebadf491c9e4a6a35ef153c68",
            "6ad4de7b90ec48218eaa660be4303dc4",
            "54eca0e9107d4520b08101c7c2f3c484",
            "c1cabc22285344c3bd7a44a6029092f8",
            "95e71a567fe84e3e822ed2f52a566b4f",
            "cb8cecd2aae14536a9c7388c4426b799",
            "35ec6b09ab0d4b4e8f947cc48e15c1b8",
            "de3ab7ecb9174bad9780dcbf11d9af79",
            "4dff2617f4bd4e829eeb2b29de2fa59d",
            "1c182ea25f014e9faed1ec17431fa747",
            "7de53190bc0b425abfba5604aaf6e8e3"
          ]
        },
        "id": "U-hP_8tookqt",
        "outputId": "a7f1b04b-d3ef-4e4b-cfeb-6dc31afe9847"
      },
      "execution_count": null,
      "outputs": [
        {
          "output_type": "stream",
          "name": "stderr",
          "text": [
            "/usr/local/lib/python3.11/dist-packages/huggingface_hub/utils/_auth.py:94: UserWarning: \n",
            "The secret `HF_TOKEN` does not exist in your Colab secrets.\n",
            "To authenticate with the Hugging Face Hub, create a token in your settings tab (https://huggingface.co/settings/tokens), set it as secret in your Google Colab and restart your session.\n",
            "You will be able to reuse this secret in all of your notebooks.\n",
            "Please note that authentication is recommended but still optional to access public models or datasets.\n",
            "  warnings.warn(\n"
          ]
        },
        {
          "output_type": "display_data",
          "data": {
            "text/plain": [
              "modules.json:   0%|          | 0.00/349 [00:00<?, ?B/s]"
            ],
            "application/vnd.jupyter.widget-view+json": {
              "version_major": 2,
              "version_minor": 0,
              "model_id": "ebbc5b9d06bd4033a26be9e6a3fd2334"
            }
          },
          "metadata": {}
        },
        {
          "output_type": "display_data",
          "data": {
            "text/plain": [
              "config_sentence_transformers.json:   0%|          | 0.00/116 [00:00<?, ?B/s]"
            ],
            "application/vnd.jupyter.widget-view+json": {
              "version_major": 2,
              "version_minor": 0,
              "model_id": "5feb5f343e0147d09a6def58fc91fb03"
            }
          },
          "metadata": {}
        },
        {
          "output_type": "display_data",
          "data": {
            "text/plain": [
              "README.md:   0%|          | 0.00/10.5k [00:00<?, ?B/s]"
            ],
            "application/vnd.jupyter.widget-view+json": {
              "version_major": 2,
              "version_minor": 0,
              "model_id": "c433ca9f6c7a441d840bdf62f42a91a7"
            }
          },
          "metadata": {}
        },
        {
          "output_type": "display_data",
          "data": {
            "text/plain": [
              "sentence_bert_config.json:   0%|          | 0.00/53.0 [00:00<?, ?B/s]"
            ],
            "application/vnd.jupyter.widget-view+json": {
              "version_major": 2,
              "version_minor": 0,
              "model_id": "6708a69eab51473ba44afc777e5cc035"
            }
          },
          "metadata": {}
        },
        {
          "output_type": "display_data",
          "data": {
            "text/plain": [
              "config.json:   0%|          | 0.00/612 [00:00<?, ?B/s]"
            ],
            "application/vnd.jupyter.widget-view+json": {
              "version_major": 2,
              "version_minor": 0,
              "model_id": "65409566ce4842aabe99e64a51438962"
            }
          },
          "metadata": {}
        },
        {
          "output_type": "display_data",
          "data": {
            "text/plain": [
              "model.safetensors:   0%|          | 0.00/90.9M [00:00<?, ?B/s]"
            ],
            "application/vnd.jupyter.widget-view+json": {
              "version_major": 2,
              "version_minor": 0,
              "model_id": "7b54e0dd28b04f079dd237a9adcfd2a1"
            }
          },
          "metadata": {}
        },
        {
          "output_type": "display_data",
          "data": {
            "text/plain": [
              "tokenizer_config.json:   0%|          | 0.00/350 [00:00<?, ?B/s]"
            ],
            "application/vnd.jupyter.widget-view+json": {
              "version_major": 2,
              "version_minor": 0,
              "model_id": "6761b0031b2643b6b6eec09d3a292d99"
            }
          },
          "metadata": {}
        },
        {
          "output_type": "display_data",
          "data": {
            "text/plain": [
              "vocab.txt:   0%|          | 0.00/232k [00:00<?, ?B/s]"
            ],
            "application/vnd.jupyter.widget-view+json": {
              "version_major": 2,
              "version_minor": 0,
              "model_id": "91a118121a584fcfa5b2b22eb2692684"
            }
          },
          "metadata": {}
        },
        {
          "output_type": "display_data",
          "data": {
            "text/plain": [
              "tokenizer.json:   0%|          | 0.00/466k [00:00<?, ?B/s]"
            ],
            "application/vnd.jupyter.widget-view+json": {
              "version_major": 2,
              "version_minor": 0,
              "model_id": "24d5ff9072004a49a461189196db74c5"
            }
          },
          "metadata": {}
        },
        {
          "output_type": "display_data",
          "data": {
            "text/plain": [
              "special_tokens_map.json:   0%|          | 0.00/112 [00:00<?, ?B/s]"
            ],
            "application/vnd.jupyter.widget-view+json": {
              "version_major": 2,
              "version_minor": 0,
              "model_id": "667cd5e43d2f49719fec4ece513a4f05"
            }
          },
          "metadata": {}
        },
        {
          "output_type": "display_data",
          "data": {
            "text/plain": [
              "config.json:   0%|          | 0.00/190 [00:00<?, ?B/s]"
            ],
            "application/vnd.jupyter.widget-view+json": {
              "version_major": 2,
              "version_minor": 0,
              "model_id": "fdbb04cebadf491c9e4a6a35ef153c68"
            }
          },
          "metadata": {}
        }
      ]
    },
    {
      "cell_type": "code",
      "source": [
        "def clean_text(text: Union[str, float]) -> str:\n",
        "    \"\"\"\n",
        "    Perform basic text cleaning: lowercase, remove punctuation,\n",
        "    and extra whitespace.\n",
        "\n",
        "    Args:\n",
        "        text (str or float): Input text.\n",
        "\n",
        "    Returns:\n",
        "        str: Cleaned text.\n",
        "    \"\"\"\n",
        "    if pd.isna(text):\n",
        "        return \"\"\n",
        "\n",
        "    # Convert to lowercase\n",
        "    text = str(text).lower()\n",
        "\n",
        "    # Remove punctuation\n",
        "    text = re.sub(r'[^\\w\\s]', ' ', text)\n",
        "\n",
        "    # Remove extra whitespace\n",
        "    text = ' '.join(text.split())\n",
        "\n",
        "    return text\n"
      ],
      "metadata": {
        "id": "-DZ3w9YKpDtL"
      },
      "execution_count": null,
      "outputs": []
    },
    {
      "cell_type": "code",
      "source": [
        "def get_embeddings(df: pd.DataFrame, model, device, col1='title_clean', col2='text_clean'):\n",
        "    \"\"\"\n",
        "    Transform text columns to embeddings using SentenceTransformer.\n",
        "\n",
        "    Args:\n",
        "        df: DataFrame with text columns.\n",
        "        model: Loaded SentenceTransformer model.\n",
        "        device: torch.device ('cuda' or 'cpu').\n",
        "        col1: Name of the first text column (default 'title_clean').\n",
        "        col2: Name of the second text column (default 'text_clean').\n",
        "    Returns:\n",
        "        Tuple of (embeddings_col1, embeddings_col2)\n",
        "    \"\"\"\n",
        "    text1 = df[col1].apply(clean_text).fillna(\"\")\n",
        "    text2 = df[col2].apply(clean_text).fillna(\"\")\n",
        "\n",
        "    embeddings1 = model.encode(\n",
        "        text1.tolist(),\n",
        "        show_progress_bar=True,\n",
        "        convert_to_numpy=True,\n",
        "        device=device\n",
        "    )\n",
        "    embeddings2 = model.encode(\n",
        "        text2.tolist(),\n",
        "        show_progress_bar=True,\n",
        "        convert_to_numpy=True,\n",
        "        device=device\n",
        "    )\n",
        "    return embeddings1, embeddings2"
      ],
      "metadata": {
        "id": "FRvthnWZo0US"
      },
      "execution_count": null,
      "outputs": []
    },
    {
      "cell_type": "code",
      "source": [
        "print(\"Encoding from train set...\")\n",
        "title_train_embeddings, text_train_embeddings = get_embeddings(\n",
        "    train_df, model, device, col1='title_clean', col2='text_clean'\n",
        ")\n",
        "\n",
        "print(\"Encoding from validation set...\")\n",
        "title_val_embeddings, text_val_embeddings = get_embeddings(\n",
        "    val_df, model, device, col1='title_clean', col2='text_clean'\n",
        ")\n",
        "print(\"Successfully completed!\")"
      ],
      "metadata": {
        "colab": {
          "base_uri": "https://localhost:8080/",
          "height": 199,
          "referenced_widgets": [
            "5fe595d58bec47718cb41252d06bff07",
            "48b9c187f8944ebaa274e104d0f4c48a",
            "4b041acec50f492bb90150dcace4105d",
            "001963631c1e4a12bb3baca0ade1ff2a",
            "8876a17e469d420b931ea9d0b2cd9d53",
            "d11f2b010eca4b398763160a9ac9a09f",
            "95f9cc2894b94992bdf8437d3fc2f3ed",
            "cc2369242c93457eb29b10f20d090791",
            "45d5595fcb8b487abdd94e18479dd666",
            "5aacb4b4deec4f08b4d07fc725ba2acf",
            "3e0e4a605bed4d0192364b53cfce22a6",
            "31fcb501cddb45f5a60c206001282260",
            "fe75026286da48239753a3de3fbcfc10",
            "5b104d057f2b4e30bccce0a46b2e48e8",
            "eaab5f2942be486cb2ecc3057677e39c",
            "575dccc2938b426db3700b718ee65fc7",
            "470efd6077364b8d8ddd859d0e675d7a",
            "a0335b2f56804cdd82a2a91a6f577753",
            "e973fed7f1814cc990b703628d7cfb20",
            "951eae3e1603419ab34ee5cf39e7b0dd",
            "3b051abfbb6c4ff78641939f2d408b19",
            "abf055e4df9742c29d324f6870dc18d3",
            "2b47498b3d7e48a995a84bf55d8873e3",
            "3a22246311af4ad0a8bb4cffe9880c25",
            "3d2eb54c03e440129485237950a7c17e",
            "efce046a5b604ee0bf19fcd87fd6dbf6",
            "40163467bad84e39b9297e0da8224061",
            "19ccae3170e34a59bbd52f9088514bb0",
            "9c5712263d9846079a7df0f043966f2c",
            "3df92d46d3204f2d999a1e4f14f923db",
            "12558fa71216477d97fbecf3cc8a68b6",
            "dbd41aebd52a4a3cab73abb68a43a38d",
            "cd370e8ca29a4e69b0c803cd9a784343",
            "bbd25da1cb8a42c0b78690b57d58bc15",
            "8b623fe6dc2c4d3ea98c043e428388af",
            "c4fb8122904a484f9cf6ca4bb1093ec4",
            "3e3dd9691a244c6aa9750261962e4f6d",
            "900e545d134e4632b5c716b1dea1d4cc",
            "4a05a88577724c729fe7b52eec722d8c",
            "ae6a9a26755a4f759ab44d90c68e4e14",
            "4daa3766eae04ed9b5e1702ad2f6468a",
            "3f8da5eeb2c74607b2a4647b95596a85",
            "60fce0c53d0b4c018f6836bd52c39d64",
            "ff86b94621cb4e2aa763524cd7597bb5"
          ]
        },
        "id": "UeokXqiBpp8U",
        "outputId": "2dee852f-7d45-4b84-9432-99d28f694914"
      },
      "execution_count": null,
      "outputs": [
        {
          "metadata": {
            "tags": null
          },
          "name": "stdout",
          "output_type": "stream",
          "text": [
            "Encoding from train set...\n"
          ]
        },
        {
          "data": {
            "application/vnd.jupyter.widget-view+json": {
              "model_id": "5fe595d58bec47718cb41252d06bff07",
              "version_major": 2,
              "version_minor": 0
            },
            "text/plain": [
              "Batches:   0%|          | 0/894 [00:00<?, ?it/s]"
            ]
          },
          "metadata": {},
          "output_type": "display_data"
        },
        {
          "data": {
            "application/vnd.jupyter.widget-view+json": {
              "model_id": "31fcb501cddb45f5a60c206001282260",
              "version_major": 2,
              "version_minor": 0
            },
            "text/plain": [
              "Batches:   0%|          | 0/894 [00:00<?, ?it/s]"
            ]
          },
          "metadata": {},
          "output_type": "display_data"
        },
        {
          "output_type": "stream",
          "name": "stdout",
          "text": [
            "Encoding from validation set...\n"
          ]
        },
        {
          "output_type": "display_data",
          "data": {
            "text/plain": [
              "Batches:   0%|          | 0/224 [00:00<?, ?it/s]"
            ],
            "application/vnd.jupyter.widget-view+json": {
              "version_major": 2,
              "version_minor": 0,
              "model_id": "2b47498b3d7e48a995a84bf55d8873e3"
            }
          },
          "metadata": {}
        },
        {
          "output_type": "display_data",
          "data": {
            "text/plain": [
              "Batches:   0%|          | 0/224 [00:00<?, ?it/s]"
            ],
            "application/vnd.jupyter.widget-view+json": {
              "version_major": 2,
              "version_minor": 0,
              "model_id": "bbd25da1cb8a42c0b78690b57d58bc15"
            }
          },
          "metadata": {}
        },
        {
          "output_type": "stream",
          "name": "stdout",
          "text": [
            "Successfully completed!\n"
          ]
        }
      ]
    },
    {
      "cell_type": "code",
      "source": [
        "def calculate_cosine_similarities(emb1: np.ndarray, emb2: np.ndarray) -> np.ndarray:\n",
        "    \"\"\"\n",
        "    Векторизовано рахує cosine similarity між двома масивами embedding.\n",
        "    Args:\n",
        "        emb1: np.ndarray (n_samples, n_dim)\n",
        "        emb2: np.ndarray (n_samples, n_dim)\n",
        "    Returns:\n",
        "        similarities: np.ndarray (n_samples,)\n",
        "    \"\"\"\n",
        "\n",
        "    similarities = cosine_similarity(emb1, emb2)\n",
        "\n",
        "    return np.diag(similarities)\n"
      ],
      "metadata": {
        "id": "efqpeQMy92e6"
      },
      "execution_count": null,
      "outputs": []
    },
    {
      "cell_type": "code",
      "source": [
        "similarities_train = calculate_cosine_similarities(title_train_embeddings, text_train_embeddings)\n",
        "similarities_val = calculate_cosine_similarities(title_val_embeddings, text_val_embeddings)"
      ],
      "metadata": {
        "id": "v-jHDqTz-EuF"
      },
      "execution_count": null,
      "outputs": []
    },
    {
      "cell_type": "code",
      "source": [
        "# Cosine similarity is the only feature\n",
        "X_train = similarities_train.reshape(-1, 1)\n",
        "y_train = train_df['is_fake'].values\n",
        "\n",
        "X_val = similarities_val.reshape(-1, 1)\n",
        "y_val = val_df['is_fake'].values\n",
        "\n",
        "# Fit calibration model (Logistic Regression)\n",
        "calibrator = LogisticRegression(class_weight='balanced', max_iter=1000, random_state=7)\n",
        "calibrator.fit(X_train, y_train)\n",
        "\n",
        "# Predict calibrated probabilities\n",
        "y_pred_probs_train = calibrator.predict_proba(X_train)\n",
        "y_pred_probs_val = calibrator.predict_proba(X_val)\n",
        "y_pred_val = calibrator.predict(X_val)"
      ],
      "metadata": {
        "id": "j2JlAGkh-Ugv"
      },
      "execution_count": null,
      "outputs": []
    },
    {
      "cell_type": "code",
      "source": [
        "# Separate cosine similarity scores for the two classes\n",
        "fake_news = X_val[y_val == 1].flatten()     # Фейкові новини\n",
        "real_news = X_val[y_val == 0].flatten()     # Реальні новини\n",
        "\n",
        "plt.figure(figsize=(7, 4))\n",
        "sns.kdeplot(fake_news, label='Fake News (1)', fill=True, color='#D1A573')\n",
        "sns.kdeplot(real_news, label='Real News (0)', fill=True, color='#73B5D1')\n",
        "plt.title('Distribution of Cosine Similarity for News Pairs')\n",
        "plt.xlabel('Cosine Similarity')\n",
        "plt.ylabel('Density')\n",
        "plt.legend()\n",
        "plt.show()\n"
      ],
      "metadata": {
        "colab": {
          "base_uri": "https://localhost:8080/",
          "height": 410
        },
        "id": "N4mjuEUY_xy2",
        "outputId": "8c6e9c9d-b4ea-4093-b184-48fb9f062dbf"
      },
      "execution_count": null,
      "outputs": [
        {
          "output_type": "display_data",
          "data": {
            "text/plain": [
              "<Figure size 700x400 with 1 Axes>"
            ],
            "image/png": "[encoded data removed]"
          },
          "metadata": {}
        }
      ]
    },
    {
      "cell_type": "code",
      "source": [
        "def evaluate_model(X_train, X_val, y_train, y_val, model):\n",
        "    \"\"\"\n",
        "    Оцінює log loss на тренувальній і валідаційній вибірках для заданої моделі.\n",
        "    \"\"\"\n",
        "    y_pred_probs_train = model.predict_proba(X_train)\n",
        "    y_pred_probs_val = model.predict_proba(X_val)\n",
        "    log_loss_train = log_loss(y_train, y_pred_probs_train)\n",
        "    log_loss_val = log_loss(y_val, y_pred_probs_val)\n",
        "    return log_loss_train, log_loss_val"
      ],
      "metadata": {
        "id": "PwYNbdcgAROC"
      },
      "execution_count": null,
      "outputs": []
    },
    {
      "cell_type": "code",
      "source": [
        "log_loss_train, log_loss_val = evaluate_model(\n",
        "    X_train, X_val, y_train, y_val, calibrator\n",
        ")\n",
        "\n",
        "print(f\"Log loss on Train set: {log_loss_train:.4f}\")\n",
        "print(f\"Log Loss on Validation set: {log_loss_val:.4f}\")\n",
        "print(\"\\nClassification Report:\")\n",
        "print(classification_report(y_val, y_pred_val, digits=3))"
      ],
      "metadata": {
        "colab": {
          "base_uri": "https://localhost:8080/"
        },
        "id": "od4wiGjHADrY",
        "outputId": "9057331e-7519-479c-d4ff-bf782d7e751b"
      },
      "execution_count": null,
      "outputs": [
        {
          "output_type": "stream",
          "name": "stdout",
          "text": [
            "Log loss on Train set: 0.6243\n",
            "Log Loss on Validation set: 0.6234\n",
            "\n",
            "Classification Report:\n",
            "              precision    recall  f1-score   support\n",
            "\n",
            "           0      0.615     0.663     0.638      3394\n",
            "           1      0.672     0.626     0.648      3755\n",
            "\n",
            "    accuracy                          0.643      7149\n",
            "   macro avg      0.644     0.644     0.643      7149\n",
            "weighted avg      0.645     0.643     0.643      7149\n",
            "\n"
          ]
        }
      ]
    },
    {
      "cell_type": "markdown",
      "source": [
        "The cosine similarity between the sentence embeddings of the title and the text provides a meaningful signal for fake news detection, achieving a log loss of ~0.62 and accuracy of 64%.\n",
        "However, this single feature is much less effective than the full TF-IDF and engineered feature set, which previously achieved a log loss of ~0.03 and accuracy above 99%.\n",
        "Therefore, cosine similarity is a strong feature for baseline models, but should ideally be combined with other features for the best performance."
      ],
      "metadata": {
        "id": "LU3sP0W_Akog"
      }
    },
    {
      "cell_type": "code",
      "source": [
        "# Compute calibration curve\n",
        "prob_true, prob_pred = calibration_curve(y_val, y_pred_probs_val[:, 1], n_bins=10)\n",
        "\n",
        "plt.figure(figsize=(5, 4))\n",
        "plt.plot(prob_pred, prob_true, marker='o', color='tan', label='Logistic Regression (calibrated)')\n",
        "plt.plot([0, 1], [0, 1], linestyle='--', color='gray', label='Perfect calibration')\n",
        "\n",
        "plt.title('Calibration Curve')\n",
        "plt.xlabel('Predicted Probability')\n",
        "plt.ylabel('True Probability in Bin')\n",
        "plt.legend()\n",
        "plt.grid(True)\n",
        "plt.show()"
      ],
      "metadata": {
        "colab": {
          "base_uri": "https://localhost:8080/",
          "height": 410
        },
        "id": "-apFyNlkAmQJ",
        "outputId": "39c03527-e4d8-4875-903f-16dc975d0731"
      },
      "execution_count": null,
      "outputs": [
        {
          "output_type": "display_data",
          "data": {
            "text/plain": [
              "<Figure size 500x400 with 1 Axes>"
            ],
            "image/png": "[encoded data removed]"
          },
          "metadata": {}
        }
      ]
    },
    {
      "cell_type": "markdown",
      "source": [
        "The model is well-calibrated for most probability ranges, as the calibration curve closely follows the diagonal. Some instability appears at very low predicted probabilities, likely due to a small number of samples or class imbalance in those bins. Overall, predicted probabilities can be trusted, especially in the middle and higher probability ranges."
      ],
      "metadata": {
        "id": "q7UoR0r5BH2X"
      }
    }
  ]
}